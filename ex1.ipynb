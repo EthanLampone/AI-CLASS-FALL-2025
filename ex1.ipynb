{
  "nbformat": 4,
  "nbformat_minor": 0,
  "metadata": {
    "colab": {
      "provenance": [],
      "authorship_tag": "ABX9TyMTOCzrpIS9ImQvJT0XA0Vv",
      "include_colab_link": true
    },
    "kernelspec": {
      "name": "python3",
      "display_name": "Python 3"
    },
    "language_info": {
      "name": "python"
    }
  },
  "cells": [
    {
      "cell_type": "markdown",
      "metadata": {
        "id": "view-in-github",
        "colab_type": "text"
      },
      "source": [
        "<a href=\"https://colab.research.google.com/github/EthanLampone/IDS/blob/main/ex1.ipynb\" target=\"_parent\"><img src=\"https://colab.research.google.com/assets/colab-badge.svg\" alt=\"Open In Colab\"/></a>"
      ]
    },
    {
      "cell_type": "code",
      "execution_count": null,
      "metadata": {
        "id": "38xel8-LaIIV"
      },
      "outputs": [],
      "source": []
    },
    {
      "cell_type": "markdown",
      "source": [
        "# **THIS IS A TEXT CELL**"
      ],
      "metadata": {
        "id": "8-V4I3KLaMXu"
      }
    },
    {
      "cell_type": "code",
      "source": [
        "import numpy as np ## IMPORT THE NUMPY PACKAGE"
      ],
      "metadata": {
        "id": "ll-Cz8TJaUi9"
      },
      "execution_count": 1,
      "outputs": []
    },
    {
      "cell_type": "code",
      "source": [
        "print(\"Showing some basic math on arrays.\\n\")\n",
        "b = np.array([0,1,4,3,2])\n",
        "\n",
        "print(f\"Max: {np.max(b)}\")\n",
        "print(f\"Min: {np.min(b)}\")\n",
        "print(f\"Max index: {np.argmax(b)}\")"
      ],
      "metadata": {
        "colab": {
          "base_uri": "https://localhost:8080/"
        },
        "id": "xQcN7srhahmp",
        "outputId": "dbf8a069-9065-41b3-dbb7-9f6ac1a24446"
      },
      "execution_count": 4,
      "outputs": [
        {
          "output_type": "stream",
          "name": "stdout",
          "text": [
            "Showing some basic math on arrays.\n",
            "\n",
            "Max: 4\n",
            "Min: 0\n",
            "Max index: 2\n"
          ]
        }
      ]
    }
  ]
}