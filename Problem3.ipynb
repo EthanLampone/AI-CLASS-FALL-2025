{
  "nbformat": 4,
  "nbformat_minor": 0,
  "metadata": {
    "colab": {
      "provenance": [],
      "authorship_tag": "ABX9TyMt+0/jIH/LFIK/bfozxxZI",
      "include_colab_link": true
    },
    "kernelspec": {
      "name": "python3",
      "display_name": "Python 3"
    },
    "language_info": {
      "name": "python"
    }
  },
  "cells": [
    {
      "cell_type": "markdown",
      "metadata": {
        "id": "view-in-github",
        "colab_type": "text"
      },
      "source": [
        "<a href=\"https://colab.research.google.com/github/EthanLampone/AI-CLASS-FALL-2025/blob/main/Problem3.ipynb\" target=\"_parent\"><img src=\"https://colab.research.google.com/assets/colab-badge.svg\" alt=\"Open In Colab\"/></a>"
      ]
    },
    {
      "cell_type": "code",
      "execution_count": null,
      "metadata": {
        "id": "cE7FXCTx4RK9"
      },
      "outputs": [],
      "source": [
        "## ETHAN LAMPONE\n",
        "## HOMEWORK 2 - PROBLEM 3\n",
        "## CSC 362 - AI\n",
        "## 26 SEPTEMBER 2025"
      ]
    },
    {
      "cell_type": "code",
      "source": [
        "from collections import deque\n",
        "import time"
      ],
      "metadata": {
        "id": "-M1zENLh4Y_R"
      },
      "execution_count": 1,
      "outputs": []
    },
    {
      "cell_type": "code",
      "source": [
        "## TO BEGIN THIS PROBLEM, WE NEED TO DEFINE THE MAZES AS MATRIXS\n",
        "## WE WILL ASSIGN CERTAIN POSITIONS FOR EACH PART OF THE MAZE\n",
        "\n",
        "## THE MAZE WILL CONSIST OF 50 TOTAL SPACES. KIND OF LONG xD\n",
        "maze_success = {\n",
        "  '0': ['1','10'],\n",
        "  '1': ['0','2'],\n",
        "  '2': ['1','12'],\n",
        "  '3': ['4','13'],\n",
        "  '4': ['3','5'],\n",
        "  '5': ['4','15'],\n",
        "  '6': ['7','16'],\n",
        "  '7': ['6','8'],\n",
        "  '8': ['7','9'],\n",
        "  '9': ['8','19'],\n",
        "  '10': ['0', '20'],\n",
        "  '11': ['12'],\n",
        "  '12': ['2','11'],\n",
        "  '13': ['3','14'],\n",
        "  '14': ['13','24'],\n",
        "  '15': ['5','16'],\n",
        "  '16': ['6','15','26'],\n",
        "  '17': ['27'],\n",
        "  '18': ['19','28'],\n",
        "  '19': ['9','18'],\n",
        "  '20': ['10','21'],\n",
        "  '21': ['20','31'],\n",
        "  '22': ['23','32'],\n",
        "  '23': ['22'],\n",
        "  '24': ['14','25','34'],\n",
        "  '25': ['24','35'],\n",
        "  '26': ['16','27'],\n",
        "  '27': ['17','26'],\n",
        "  '28': ['18','38'],\n",
        "  '29': ['39'],\n",
        "  '30': ['31','40'],\n",
        "  '31': ['21','30','31'],\n",
        "  '32': ['22','31'],\n",
        "  '33': ['34','43'],\n",
        "  '34': ['24','33','44'],\n",
        "  '35': ['25','36'],\n",
        "  '36': ['35'],\n",
        "  '37': ['38','47'],\n",
        "  '38': ['28','37','39'],\n",
        "  '39': ['29','38'],\n",
        "  '40': ['30','41'],\n",
        "  '41': ['40','42'],\n",
        "  '42': ['41','43'],\n",
        "  '43': ['33','42'],\n",
        "  '44': ['34','45'],\n",
        "  '45': ['44'],\n",
        "  '46': ['47'],\n",
        "  '47': ['37','46','48'],\n",
        "  '48': ['47','49'],\n",
        "  '49': ['48']\n",
        "}"
      ],
      "metadata": {
        "id": "_rjqG2P14ZVg"
      },
      "execution_count": 2,
      "outputs": []
    },
    {
      "cell_type": "code",
      "source": [
        "## THE MAZE WILL CONSIST OF 50 TOTAL SPACES FOR THE FAILURE PART\n",
        "maze_failure = {\n",
        "  '0': ['1','10'],\n",
        "  '1': ['0','2'],\n",
        "  '2': ['1','12'],\n",
        "  '3': ['4','13'],\n",
        "  '4': ['3','5'],\n",
        "  '5': ['4','15'],\n",
        "  '6': ['7','16'],\n",
        "  '7': ['6','8'],\n",
        "  '8': ['7','9'],\n",
        "  '9': ['8','19'],\n",
        "  '10': ['0', '20'],\n",
        "  '11': ['12'],\n",
        "  '12': ['2','11'],\n",
        "  '13': ['3','14'],\n",
        "  '14': ['13','24'],\n",
        "  '15': ['5','16'],\n",
        "  '16': ['6','15','26'],\n",
        "  '17': ['27'],\n",
        "  '18': ['19','28'],\n",
        "  '19': ['9','18'],\n",
        "  '20': ['10','21'],\n",
        "  '21': ['20'], ## CHANGE ONE HAPPENED HERE; 31 WAS REMOVED\n",
        "  '22': ['23','32'],\n",
        "  '23': ['22'],\n",
        "  '24': ['14','25','34'],\n",
        "  '25': ['24','35'],\n",
        "  '26': ['16','27'],\n",
        "  '27': ['17','26'],\n",
        "  '28': ['18','38'],\n",
        "  '29': ['39'],\n",
        "  '30': ['31','40'],\n",
        "  '31': ['30','31'], # CHANGE TWO HAPPENED HERE; 21 WAS REMOVED\n",
        "  '32': ['22','31'],\n",
        "  '33': ['34','43'],\n",
        "  '34': ['24','33','44'],\n",
        "  '35': ['25','36'],\n",
        "  '36': ['35'],\n",
        "  '37': ['38','47'],\n",
        "  '38': ['28','37','39'],\n",
        "  '39': ['29','38'],\n",
        "  '40': ['30','41'],\n",
        "  '41': ['40','42'],\n",
        "  '42': ['41','43'],\n",
        "  '43': ['33','42'],\n",
        "  '44': ['34','45'],\n",
        "  '45': ['44'],\n",
        "  '46': ['47'],\n",
        "  '47': ['37','46','48'],\n",
        "  '48': ['47','49'],\n",
        "  '49': ['48']\n",
        "}"
      ],
      "metadata": {
        "id": "j-nWbP4EEc_6"
      },
      "execution_count": 3,
      "outputs": []
    },
    {
      "cell_type": "code",
      "source": [
        "## THE FUNCTION BELOW WILL TAKE IN A GRAPH, A START NODE, AND AN END NODE.\n",
        "## THE START AND END ARE GIVEN BEFOREHAND SO THE COMPUTER KNOWS WHERE TO START\n",
        "## AND KNOWS WHEN WE HAVE FOUND AN END.\n",
        "\n",
        "# FUNCTION TO SEARCH THROUGH THE MAZE\n",
        "def MazeSearch(graph, start, end):\n",
        "  visited_nodes, new_nodes, end_node = set(), deque(start), set([end])\n",
        "  while new_nodes:\n",
        "\n",
        "    node = new_nodes.pop() # GET THE NODE WE ARE WORKING W/\n",
        "\n",
        "    if node in end_node: # LOOK FOR CURRENT NODE IN END_NODE SET (EXIT)\n",
        "      return 'SUCCESS' # RETURN SUCCESS IF SO\n",
        "    else: # IF NOT ADD IT TO THE VISITORS SET\n",
        "      visited_nodes.add(node)\n",
        "\n",
        "    for neighbor in graph.get(node,[]): # TO GET NEIGHBORS OF CURRENT NODE\n",
        "      if neighbor not in visited_nodes:\n",
        "        new_nodes.append(neighbor) # APPEND W/ POP INDICATES 'DFS'\n",
        "\n",
        "  ## IF WE DON'T FIND THE END NODE (49), WE RETURN FAILURE.\n",
        "  return 'FAILURE'"
      ],
      "metadata": {
        "id": "UPT_sHEr2nnx"
      },
      "execution_count": 4,
      "outputs": []
    },
    {
      "cell_type": "code",
      "source": [
        "print(MazeSearch(maze_success, '0', '49'))\n",
        "print(MazeSearch(maze_failure, '0', '49'))"
      ],
      "metadata": {
        "colab": {
          "base_uri": "https://localhost:8080/"
        },
        "id": "B408S1VtEr4b",
        "outputId": "713cc96b-486c-4fff-973c-34faf65d5a30"
      },
      "execution_count": 5,
      "outputs": [
        {
          "output_type": "stream",
          "name": "stdout",
          "text": [
            "SUCCESS\n",
            "FAILURE\n"
          ]
        }
      ]
    }
  ]
}